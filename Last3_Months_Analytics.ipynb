{
  "nbformat": 4,
  "nbformat_minor": 0,
  "metadata": {
    "colab": {
      "provenance": []
    },
    "kernelspec": {
      "name": "python3",
      "display_name": "Python 3"
    },
    "language_info": {
      "name": "python"
    }
  },
  "cells": [
    {
      "cell_type": "code",
      "execution_count": null,
      "metadata": {
        "id": "qNRaoOiFAeJL"
      },
      "outputs": [],
      "source": [
        "import pandas as pd\n",
        "import numpy as np\n",
        "pd.set_option('display.max_columns', None)\n",
        "import matplotlib.pyplot as plt"
      ]
    },
    {
      "cell_type": "code",
      "source": [
        "data=pd.read_csv('/content/odysse_dataset (2).csv')\n",
        "data.drop(['Unnamed: 0'],axis=1,inplace=True)\n",
        "data"
      ],
      "metadata": {
        "colab": {
          "base_uri": "https://localhost:8080/",
          "height": 321
        },
        "id": "Kd4P7G6VBKFW",
        "outputId": "2f817156-e142-4706-a7a2-7f08ddac501b"
      },
      "execution_count": null,
      "outputs": [
        {
          "output_type": "error",
          "ename": "FileNotFoundError",
          "evalue": "[Errno 2] No such file or directory: '/content/odysse_dataset (2).csv'",
          "traceback": [
            "\u001b[0;31m---------------------------------------------------------------------------\u001b[0m",
            "\u001b[0;31mFileNotFoundError\u001b[0m                         Traceback (most recent call last)",
            "\u001b[0;32m<ipython-input-2-12353997e0a6>\u001b[0m in \u001b[0;36m<cell line: 1>\u001b[0;34m()\u001b[0m\n\u001b[0;32m----> 1\u001b[0;31m \u001b[0mdata\u001b[0m\u001b[0;34m=\u001b[0m\u001b[0mpd\u001b[0m\u001b[0;34m.\u001b[0m\u001b[0mread_csv\u001b[0m\u001b[0;34m(\u001b[0m\u001b[0;34m'/content/odysse_dataset (2).csv'\u001b[0m\u001b[0;34m)\u001b[0m\u001b[0;34m\u001b[0m\u001b[0;34m\u001b[0m\u001b[0m\n\u001b[0m\u001b[1;32m      2\u001b[0m \u001b[0mdata\u001b[0m\u001b[0;34m.\u001b[0m\u001b[0mdrop\u001b[0m\u001b[0;34m(\u001b[0m\u001b[0;34m[\u001b[0m\u001b[0;34m'Unnamed: 0'\u001b[0m\u001b[0;34m]\u001b[0m\u001b[0;34m,\u001b[0m\u001b[0maxis\u001b[0m\u001b[0;34m=\u001b[0m\u001b[0;36m1\u001b[0m\u001b[0;34m,\u001b[0m\u001b[0minplace\u001b[0m\u001b[0;34m=\u001b[0m\u001b[0;32mTrue\u001b[0m\u001b[0;34m)\u001b[0m\u001b[0;34m\u001b[0m\u001b[0;34m\u001b[0m\u001b[0m\n\u001b[1;32m      3\u001b[0m \u001b[0mdata\u001b[0m\u001b[0;34m\u001b[0m\u001b[0;34m\u001b[0m\u001b[0m\n",
            "\u001b[0;32m/usr/local/lib/python3.10/dist-packages/pandas/io/parsers/readers.py\u001b[0m in \u001b[0;36mread_csv\u001b[0;34m(filepath_or_buffer, sep, delimiter, header, names, index_col, usecols, dtype, engine, converters, true_values, false_values, skipinitialspace, skiprows, skipfooter, nrows, na_values, keep_default_na, na_filter, verbose, skip_blank_lines, parse_dates, infer_datetime_format, keep_date_col, date_parser, date_format, dayfirst, cache_dates, iterator, chunksize, compression, thousands, decimal, lineterminator, quotechar, quoting, doublequote, escapechar, comment, encoding, encoding_errors, dialect, on_bad_lines, delim_whitespace, low_memory, memory_map, float_precision, storage_options, dtype_backend)\u001b[0m\n\u001b[1;32m   1024\u001b[0m     \u001b[0mkwds\u001b[0m\u001b[0;34m.\u001b[0m\u001b[0mupdate\u001b[0m\u001b[0;34m(\u001b[0m\u001b[0mkwds_defaults\u001b[0m\u001b[0;34m)\u001b[0m\u001b[0;34m\u001b[0m\u001b[0;34m\u001b[0m\u001b[0m\n\u001b[1;32m   1025\u001b[0m \u001b[0;34m\u001b[0m\u001b[0m\n\u001b[0;32m-> 1026\u001b[0;31m     \u001b[0;32mreturn\u001b[0m \u001b[0m_read\u001b[0m\u001b[0;34m(\u001b[0m\u001b[0mfilepath_or_buffer\u001b[0m\u001b[0;34m,\u001b[0m \u001b[0mkwds\u001b[0m\u001b[0;34m)\u001b[0m\u001b[0;34m\u001b[0m\u001b[0;34m\u001b[0m\u001b[0m\n\u001b[0m\u001b[1;32m   1027\u001b[0m \u001b[0;34m\u001b[0m\u001b[0m\n\u001b[1;32m   1028\u001b[0m \u001b[0;34m\u001b[0m\u001b[0m\n",
            "\u001b[0;32m/usr/local/lib/python3.10/dist-packages/pandas/io/parsers/readers.py\u001b[0m in \u001b[0;36m_read\u001b[0;34m(filepath_or_buffer, kwds)\u001b[0m\n\u001b[1;32m    618\u001b[0m \u001b[0;34m\u001b[0m\u001b[0m\n\u001b[1;32m    619\u001b[0m     \u001b[0;31m# Create the parser.\u001b[0m\u001b[0;34m\u001b[0m\u001b[0;34m\u001b[0m\u001b[0m\n\u001b[0;32m--> 620\u001b[0;31m     \u001b[0mparser\u001b[0m \u001b[0;34m=\u001b[0m \u001b[0mTextFileReader\u001b[0m\u001b[0;34m(\u001b[0m\u001b[0mfilepath_or_buffer\u001b[0m\u001b[0;34m,\u001b[0m \u001b[0;34m**\u001b[0m\u001b[0mkwds\u001b[0m\u001b[0;34m)\u001b[0m\u001b[0;34m\u001b[0m\u001b[0;34m\u001b[0m\u001b[0m\n\u001b[0m\u001b[1;32m    621\u001b[0m \u001b[0;34m\u001b[0m\u001b[0m\n\u001b[1;32m    622\u001b[0m     \u001b[0;32mif\u001b[0m \u001b[0mchunksize\u001b[0m \u001b[0;32mor\u001b[0m \u001b[0miterator\u001b[0m\u001b[0;34m:\u001b[0m\u001b[0;34m\u001b[0m\u001b[0;34m\u001b[0m\u001b[0m\n",
            "\u001b[0;32m/usr/local/lib/python3.10/dist-packages/pandas/io/parsers/readers.py\u001b[0m in \u001b[0;36m__init__\u001b[0;34m(self, f, engine, **kwds)\u001b[0m\n\u001b[1;32m   1618\u001b[0m \u001b[0;34m\u001b[0m\u001b[0m\n\u001b[1;32m   1619\u001b[0m         \u001b[0mself\u001b[0m\u001b[0;34m.\u001b[0m\u001b[0mhandles\u001b[0m\u001b[0;34m:\u001b[0m \u001b[0mIOHandles\u001b[0m \u001b[0;34m|\u001b[0m \u001b[0;32mNone\u001b[0m \u001b[0;34m=\u001b[0m \u001b[0;32mNone\u001b[0m\u001b[0;34m\u001b[0m\u001b[0;34m\u001b[0m\u001b[0m\n\u001b[0;32m-> 1620\u001b[0;31m         \u001b[0mself\u001b[0m\u001b[0;34m.\u001b[0m\u001b[0m_engine\u001b[0m \u001b[0;34m=\u001b[0m \u001b[0mself\u001b[0m\u001b[0;34m.\u001b[0m\u001b[0m_make_engine\u001b[0m\u001b[0;34m(\u001b[0m\u001b[0mf\u001b[0m\u001b[0;34m,\u001b[0m \u001b[0mself\u001b[0m\u001b[0;34m.\u001b[0m\u001b[0mengine\u001b[0m\u001b[0;34m)\u001b[0m\u001b[0;34m\u001b[0m\u001b[0;34m\u001b[0m\u001b[0m\n\u001b[0m\u001b[1;32m   1621\u001b[0m \u001b[0;34m\u001b[0m\u001b[0m\n\u001b[1;32m   1622\u001b[0m     \u001b[0;32mdef\u001b[0m \u001b[0mclose\u001b[0m\u001b[0;34m(\u001b[0m\u001b[0mself\u001b[0m\u001b[0;34m)\u001b[0m \u001b[0;34m->\u001b[0m \u001b[0;32mNone\u001b[0m\u001b[0;34m:\u001b[0m\u001b[0;34m\u001b[0m\u001b[0;34m\u001b[0m\u001b[0m\n",
            "\u001b[0;32m/usr/local/lib/python3.10/dist-packages/pandas/io/parsers/readers.py\u001b[0m in \u001b[0;36m_make_engine\u001b[0;34m(self, f, engine)\u001b[0m\n\u001b[1;32m   1878\u001b[0m                 \u001b[0;32mif\u001b[0m \u001b[0;34m\"b\"\u001b[0m \u001b[0;32mnot\u001b[0m \u001b[0;32min\u001b[0m \u001b[0mmode\u001b[0m\u001b[0;34m:\u001b[0m\u001b[0;34m\u001b[0m\u001b[0;34m\u001b[0m\u001b[0m\n\u001b[1;32m   1879\u001b[0m                     \u001b[0mmode\u001b[0m \u001b[0;34m+=\u001b[0m \u001b[0;34m\"b\"\u001b[0m\u001b[0;34m\u001b[0m\u001b[0;34m\u001b[0m\u001b[0m\n\u001b[0;32m-> 1880\u001b[0;31m             self.handles = get_handle(\n\u001b[0m\u001b[1;32m   1881\u001b[0m                 \u001b[0mf\u001b[0m\u001b[0;34m,\u001b[0m\u001b[0;34m\u001b[0m\u001b[0;34m\u001b[0m\u001b[0m\n\u001b[1;32m   1882\u001b[0m                 \u001b[0mmode\u001b[0m\u001b[0;34m,\u001b[0m\u001b[0;34m\u001b[0m\u001b[0;34m\u001b[0m\u001b[0m\n",
            "\u001b[0;32m/usr/local/lib/python3.10/dist-packages/pandas/io/common.py\u001b[0m in \u001b[0;36mget_handle\u001b[0;34m(path_or_buf, mode, encoding, compression, memory_map, is_text, errors, storage_options)\u001b[0m\n\u001b[1;32m    871\u001b[0m         \u001b[0;32mif\u001b[0m \u001b[0mioargs\u001b[0m\u001b[0;34m.\u001b[0m\u001b[0mencoding\u001b[0m \u001b[0;32mand\u001b[0m \u001b[0;34m\"b\"\u001b[0m \u001b[0;32mnot\u001b[0m \u001b[0;32min\u001b[0m \u001b[0mioargs\u001b[0m\u001b[0;34m.\u001b[0m\u001b[0mmode\u001b[0m\u001b[0;34m:\u001b[0m\u001b[0;34m\u001b[0m\u001b[0;34m\u001b[0m\u001b[0m\n\u001b[1;32m    872\u001b[0m             \u001b[0;31m# Encoding\u001b[0m\u001b[0;34m\u001b[0m\u001b[0;34m\u001b[0m\u001b[0m\n\u001b[0;32m--> 873\u001b[0;31m             handle = open(\n\u001b[0m\u001b[1;32m    874\u001b[0m                 \u001b[0mhandle\u001b[0m\u001b[0;34m,\u001b[0m\u001b[0;34m\u001b[0m\u001b[0;34m\u001b[0m\u001b[0m\n\u001b[1;32m    875\u001b[0m                 \u001b[0mioargs\u001b[0m\u001b[0;34m.\u001b[0m\u001b[0mmode\u001b[0m\u001b[0;34m,\u001b[0m\u001b[0;34m\u001b[0m\u001b[0;34m\u001b[0m\u001b[0m\n",
            "\u001b[0;31mFileNotFoundError\u001b[0m: [Errno 2] No such file or directory: '/content/odysse_dataset (2).csv'"
          ]
        }
      ]
    },
    {
      "cell_type": "code",
      "source": [
        "desired_postcodes = ['W2', 'W3', 'W4', 'W5', 'W6', 'W7', 'W8', 'W9', 'W10', 'W11', 'W12', 'W13', 'W14']\n",
        "\n",
        "# Filter the DataFrame to keep only rows where pick_up_postcode is in the desired list\n",
        "filtered_data = data[data['Pick_up_postcode'].isin(desired_postcodes)]\n",
        "\n",
        "filtered_data.to_csv('journey_to_west.csv',index=False)"
      ],
      "metadata": {
        "id": "Mhku5jOiD5ze"
      },
      "execution_count": null,
      "outputs": []
    },
    {
      "cell_type": "code",
      "source": [
        "data['triprequestdatetime'] = pd.to_datetime(data['triprequestdatetime'])\n",
        "\n",
        "data_2024 = data[data['triprequestdatetime'].dt.year == 2024]\n",
        "\n",
        "data_2024"
      ],
      "metadata": {
        "id": "SJCPCEgxbzSF"
      },
      "execution_count": null,
      "outputs": []
    },
    {
      "cell_type": "code",
      "source": [
        "data_2024=data_2024[data_2024['Month']>=8]\n",
        "data_2024\n",
        "pd.set_option('display.max_columns',None)"
      ],
      "metadata": {
        "id": "cZEjKzMzcU44"
      },
      "execution_count": null,
      "outputs": []
    },
    {
      "cell_type": "code",
      "source": [
        "data_2024.head(2)"
      ],
      "metadata": {
        "id": "VMwBLEEXgWlX"
      },
      "execution_count": null,
      "outputs": []
    },
    {
      "cell_type": "code",
      "source": [
        "min_50_rides = data_2024.groupby(['Pick_up_postcode']).filter(lambda x: len(x)>=50)\n",
        "\n",
        "codes_earning_mean = min_50_rides.groupby(['Pick_up_postcode']).agg(\n",
        "\n",
        "{'earnings':'mean'})"
      ],
      "metadata": {
        "id": "HKVZSTicfnEX"
      },
      "execution_count": null,
      "outputs": []
    },
    {
      "cell_type": "code",
      "source": [
        "codes_earning_mean.sort_values('earnings', ascending = False)"
      ],
      "metadata": {
        "id": "ucOUmTcnh_34"
      },
      "execution_count": null,
      "outputs": []
    },
    {
      "cell_type": "code",
      "source": [
        "# codes_earning_mean_sorted = codes_earning_mean.sort_values(by='earnings')\n",
        "\n",
        "# # Save the sorted DataFrame to CSV\n",
        "# codes_earning_mean_sorted.to_csv('codes_earning_mean.csv', index=False)\n",
        "\n",
        "# # Download the CSV file\n",
        "# files.download('codes_earning_mean.csv')"
      ],
      "metadata": {
        "id": "Bq4vBWw9lbg5"
      },
      "execution_count": null,
      "outputs": []
    },
    {
      "cell_type": "code",
      "source": [
        "from google.colab import files\n",
        "sorted_codes = codes_earning_mean.sort_values('earnings', ascending = False)\n",
        "sorted_codes.to_csv('mean_earning_codes.csv')\n",
        "files.download(\"mean_earning_codes.csv\")\n"
      ],
      "metadata": {
        "id": "xyH1yLffkdrb"
      },
      "execution_count": null,
      "outputs": []
    },
    {
      "cell_type": "code",
      "source": [
        "from ipywidgets import widgets,interact"
      ],
      "metadata": {
        "id": "X68H8WmQ1-M5"
      },
      "execution_count": null,
      "outputs": []
    },
    {
      "cell_type": "code",
      "source": [
        "data_2024.columns"
      ],
      "metadata": {
        "id": "AbqSVuVY2bCp"
      },
      "execution_count": null,
      "outputs": []
    },
    {
      "cell_type": "code",
      "source": [
        "post_codes = data_2024.groupby(['Pick_up_postcode']).filter(lambda x: len(x)>=50)\n",
        "\n",
        "post_codes['Pick_up_postcode'].unique()"
      ],
      "metadata": {
        "id": "S8ROMSVY-h1Z"
      },
      "execution_count": null,
      "outputs": []
    },
    {
      "cell_type": "code",
      "source": [
        "post_codes = data_2024.groupby(['Pick_up_postcode']).filter(lambda x: len(x)>=50)\n",
        "postcodes = post_codes['Pick_up_postcode'].unique()\n",
        "\n",
        "postcode = widgets.Dropdown(options =postcodes,\n",
        "                              description = \"postcode\"\n",
        ")\n",
        "\n",
        "\n",
        "def update_plot(selected_post_code):\n",
        "  postcode_data= data_2024[data_2024['Pick_up_postcode']==selected_post_code]\n",
        "\n",
        "  driver_counts = postcode_data['full_name'].value_counts()\n",
        "  plt.figure(figsize = (18,6))\n",
        "  bars = driver_counts.plot(kind = 'bar', color = 'skyblue')\n",
        "  for bar in bars.containers[0]:\n",
        "      height = bar.get_height()\n",
        "      bars.text(\n",
        "          bar.get_x() + bar.get_width() / 2,  # Position horizontally in the center of the bar\n",
        "          height,  # Position vertically at the height of the bar\n",
        "          f'{int(height)}',  # Display the height value as an integer\n",
        "          ha='center',  # Align horizontally centered\n",
        "          va='bottom',  # Position label slightly above the bar\n",
        "          fontsize=10,  # Label font size\n",
        "          color='black'  # Label color\n",
        "      )\n",
        "\n",
        "  plt.title(f'Driver Frequency for Postcode {selected_post_code}')\n",
        "  plt.xlabel('Driver Name')\n",
        "  plt.ylabel('Frequency')\n",
        "  plt.xticks(rotation=60, ha = 'right')\n",
        "  plt.subplots_adjust(bottom=0.2)\n",
        "  plt.show()\n",
        "\n",
        "# Display the interactive dropdown and plot\n",
        "interact(update_plot, selected_post_code=postcode)\n"
      ],
      "metadata": {
        "id": "bwplEXV9-ao4"
      },
      "execution_count": null,
      "outputs": []
    },
    {
      "cell_type": "code",
      "source": [
        "post_codes = data_2024.groupby(['Drop_off_postcode']).filter(lambda x: len(x)>=20)\n",
        "postcodes = post_codes['Drop_off_postcode'].unique()\n",
        "\n",
        "postcode = widgets.Dropdown(options =postcodes,\n",
        "                              description = \"postcode\"\n",
        ")\n",
        "\n",
        "\n",
        "def update_plot(selected_post_code):\n",
        "  postcode_data= data_2024[data_2024['Drop_off_postcode']==selected_post_code]\n",
        "\n",
        "  driver_counts = postcode_data['full_name'].value_counts()\n",
        "  plt.figure(figsize = (18,6))\n",
        "  bars = driver_counts.plot(kind = 'bar', color = 'skyblue')\n",
        "  for bar in bars.containers[0]:\n",
        "      height = bar.get_height()\n",
        "      bars.text(\n",
        "          bar.get_x() + bar.get_width() / 2,  # Position horizontally in the center of the bar\n",
        "          height,  # Position vertically at the height of the bar\n",
        "          f'{int(height)}',  # Display the height value as an integer\n",
        "          ha='center',  # Align horizontally centered\n",
        "          va='bottom',  # Position label slightly above the bar\n",
        "          fontsize=10,  # Label font size\n",
        "          color='black'  # Label color\n",
        "      )\n",
        "\n",
        "  plt.title(f'Driver Frequency for Dropcode {selected_post_code}')\n",
        "  plt.xlabel('Driver Name')\n",
        "  plt.ylabel('Frequency')\n",
        "  plt.xticks(rotation=60, ha = 'right')\n",
        "  plt.subplots_adjust(bottom=0.2)\n",
        "  plt.show()\n",
        "\n",
        "# Display the interactive dropdown and plot\n",
        "interact(update_plot, selected_post_code=postcode)\n"
      ],
      "metadata": {
        "id": "ePgaX8jnY452"
      },
      "execution_count": null,
      "outputs": []
    },
    {
      "cell_type": "code",
      "source": [
        "time_post_code = data_2024.groupby(['Pick_up_postcode']).filter(lambda x: len(x)>=50)\n",
        "post_code_time = time_post_code['Pick_up_postcode'].unique()\n",
        "\n",
        "post_codes = widgets.Dropdown(\n",
        "    options = post_code_time,\n",
        "    description = 'PCode')\n",
        "\n",
        "def time_selected(selected_value):\n",
        "  pick_up_code = data_2024[data_2024['Pick_up_postcode']==selected_value]\n",
        "  time = pick_up_code['Hour'].value_counts()\n",
        "\n",
        "  #adding bar\n",
        "  plt.figure(figsize = (12,6))\n",
        "  bars = time.plot(kind='bar', color ='skyblue')\n",
        "\n",
        "  #adding text\n",
        "  for bar in bars.containers[0]:\n",
        "    height = bar.get_height()\n",
        "    bars.text(\n",
        "        bar.get_x() + bar.get_width()/2,\n",
        "        height,\n",
        "        f'{int(height)}',\n",
        "        ha='center',  # Align horizontally centered\n",
        "        va='bottom',  # Position label slightly above the bar\n",
        "        fontsize=10,  # Label font size\n",
        "        color='black'  # Label color\n",
        "      )\n",
        "\n",
        "  plt.title(f'Time Frequency for Postcode {selected_value}')\n",
        "  plt.xlabel('Time')\n",
        "  plt.ylabel('Frequency')\n",
        "  plt.xticks(rotation=60, ha = 'right')\n",
        "  # plt.subplots_adjust(bottom=0.2)\n",
        "  plt.show()\n",
        "\n",
        "interact(time_selected,selected_value = post_codes)\n",
        "\n"
      ],
      "metadata": {
        "id": "z0cqeH8P2Fo7"
      },
      "execution_count": null,
      "outputs": []
    },
    {
      "cell_type": "code",
      "source": [
        "# x =data_2024.groupby(['Pick_up_postcode']).filter(lambda x:len(x)>=50)\n",
        "post_code = data_2024['full_name'].unique()\n",
        "drivers = widgets.Dropdown(\n",
        "    options = post_code,\n",
        "    description = \"drivers\"\n",
        ")\n",
        "\n",
        "def driver_values(selected_value):\n",
        "  var1 = data_2024[data_2024['full_name']==selected_value]\n",
        "  var2 = var1.groupby(['Pick_up_postcode']).filter(lambda x: len(x)>=20)\n",
        "  var3 = var2['Pick_up_postcode'].value_counts()\n",
        "\n",
        "  plt.figure(figsize = (12,6))\n",
        "  bars = var3.plot(kind = 'bar', color='skyblue')\n",
        "\n",
        "  for bar in bars.containers[0]:\n",
        "    height =bar.get_height()\n",
        "    bars.text(\n",
        "        bar.get_x() + bar.get_width()/2,\n",
        "        height,\n",
        "        f'{int(height)}',\n",
        "        ha='center',  # Align horizontally centered\n",
        "        va='bottom',  # Position label slightly above the bar\n",
        "        fontsize=10,  # Label font size\n",
        "        color='black'  # Label color\n",
        "      )\n",
        "  plt.title(f'count of pick codes of {selected_value}')\n",
        "  plt.xlabel('Pick_up')\n",
        "  plt.ylabel('Frequency')\n",
        "  plt.xticks(rotation=60, ha = 'right')\n",
        "  # plt.subplots_adjust(bottom=0.2)\n",
        "  plt.show()\n",
        "interact(driver_values,selected_value = drivers)\n"
      ],
      "metadata": {
        "id": "f58WCbQjrflr"
      },
      "execution_count": null,
      "outputs": []
    },
    {
      "cell_type": "code",
      "source": [
        "# x =data_2024.groupby(['Pick_up_postcode']).filter(lambda x:len(x)>=50)\n",
        "post_code = data_2024['full_name'].unique()\n",
        "drivers = widgets.Dropdown(\n",
        "    options = post_code,\n",
        "    description = \"drivers\"\n",
        ")\n",
        "\n",
        "def driver_values(selected_value):\n",
        "  var1 = data_2024[data_2024['full_name']==selected_value]\n",
        "  var2 = var1.groupby(['Drop_off_postcode']).filter(lambda x: len(x)>=8)\n",
        "  var3 = var2['Drop_off_postcode'].value_counts()\n",
        "\n",
        "  plt.figure(figsize = (12,6))\n",
        "  bars = var3.plot(kind = 'bar', color='skyblue')\n",
        "\n",
        "  for bar in bars.containers[0]:\n",
        "    height =bar.get_height()\n",
        "    bars.text(\n",
        "        bar.get_x() + bar.get_width()/2,\n",
        "        height,\n",
        "        f'{int(height)}',\n",
        "        ha='center',  # Align horizontally centered\n",
        "        va='bottom',  # Position label slightly above the bar\n",
        "        fontsize=10,  # Label font size\n",
        "        color='black'  # Label color\n",
        "      )\n",
        "  plt.title(f'count of drop codes of {selected_value}')\n",
        "  plt.xlabel('drop_up')\n",
        "  plt.ylabel('Frequency')\n",
        "  plt.xticks(rotation=60, ha = 'right')\n",
        "  # plt.subplots_adjust(bottom=0.2)\n",
        "  plt.show()\n",
        "interact(driver_values,selected_value = drivers)"
      ],
      "metadata": {
        "id": "ICkgOTlVUvPG"
      },
      "execution_count": null,
      "outputs": []
    },
    {
      "cell_type": "code",
      "source": [
        "var = data_2024['full_name'].unique()\n",
        "var1 = widgets.Dropdown(\n",
        "    options = var,\n",
        "    description = \"Driver\"\n",
        ")\n",
        "\n",
        "def new_fun(selected_value):\n",
        "  x = data_2024[data_2024[\"full_name\"]==selected_value]\n",
        "  y = x['Hour'].value_counts()\n",
        "\n",
        "  #create the bars\n",
        "  plt.figure(figsize=(10,12))\n",
        "  bars = y.plot(kind = \"bar\", color = 'skyblue')\n",
        "\n",
        "  #text in bars\n",
        "  for bar in bars.containers[0]:\n",
        "    height =bar.get_height()\n",
        "    bars.text(\n",
        "        bar.get_x() + bar.get_width()/2,\n",
        "        height,\n",
        "        f'{int(height)}',\n",
        "        ha='center',  # Align horizontally centered\n",
        "        va='bottom',  # Position label slightly above the bar\n",
        "        fontsize=10,  # Label font size\n",
        "        color='black'  # Label color\n",
        "    )\n",
        "  plt.title(f'count of hours of {selected_value}')\n",
        "  plt.xlabel('Hours')\n",
        "  plt.ylabel('Frequency')\n",
        "  plt.xticks(rotation=60, ha = 'right')\n",
        "  # plt.subplots_adjust(bottom=0.2)\n",
        "  plt.show()\n",
        "interact(new_fun,selected_value = var1)"
      ],
      "metadata": {
        "id": "rAQVVwKG-573"
      },
      "execution_count": null,
      "outputs": []
    },
    {
      "cell_type": "code",
      "source": [
        "data_2024.columns"
      ],
      "metadata": {
        "id": "K9qENozAHqd-"
      },
      "execution_count": null,
      "outputs": []
    },
    {
      "cell_type": "code",
      "source": [],
      "metadata": {
        "id": "YOJOD80B3HhG"
      },
      "execution_count": null,
      "outputs": []
    },
    {
      "cell_type": "code",
      "source": [
        "def update_bar_plot(selected_postcode):\n",
        "    # Filter data by the selected postcode\n",
        "    postcode_data = data_2024[data_2024['Pick_up_postcode'] == selected_postcode]\n",
        "\n",
        "    # Count the frequency of each driver for the selected postcode\n",
        "    driver_counts = postcode_data['Driver_Name'].value_counts()\n",
        "\n",
        "    # Plot the data\n",
        "    plt.figure(figsize=(10, 6))\n",
        "    driver_counts.plot(kind='bar', color='skyblue')\n",
        "    plt.title(f'Driver Frequency for Postcode {selected_postcode}')\n",
        "    plt.xlabel('Driver Name')\n",
        "    plt.ylabel('Frequency')\n",
        "    plt.xticks(rotation=45)\n",
        "    plt.show()\n",
        "\n",
        "# Display the interactive dropdown and plot\n",
        "interact(update_bar_plot, selected_postcode=postcode_dropdown)"
      ],
      "metadata": {
        "id": "0VH-SMVw2ozE"
      },
      "execution_count": null,
      "outputs": []
    },
    {
      "cell_type": "code",
      "source": [
        "files.download('codes_earning_mean.csv').to_csv('codes_earning_mean.csv', index=False)"
      ],
      "metadata": {
        "id": "_Am_riPWl5Et"
      },
      "execution_count": null,
      "outputs": []
    },
    {
      "cell_type": "code",
      "source": [
        "data_2024=data_2024.groupby(['Hour']).agg({'id_x':'count'}).reset_index()\n",
        "data_2024"
      ],
      "metadata": {
        "id": "ktZ5o-LZcq6J"
      },
      "execution_count": null,
      "outputs": []
    },
    {
      "cell_type": "code",
      "source": [
        "import matplotlib.pyplot as plt\n",
        "\n",
        "plt.figure(figsize=(12, 6))\n",
        "plt.bar(data_2024['Hour'], data_2024['id_x'])\n",
        "plt.xlabel('Hour')\n",
        "plt.ylabel('Count')\n",
        "plt.title('Number of Trips per Hour')\n",
        "\n",
        "\n",
        "for i, count in enumerate(data_2024['id_x']):\n",
        "    plt.text(i, count + 1, str(count), ha='center', va='bottom')\n",
        "\n",
        "plt.xticks(range(0, 24, 1))\n",
        "\n",
        "plt.show()"
      ],
      "metadata": {
        "id": "Tv3pdKZ-c9Cw"
      },
      "execution_count": null,
      "outputs": []
    },
    {
      "cell_type": "code",
      "source": [
        "data_2024_6=data_2024[data_2024['Hour']==6]\n",
        "data_2024_6"
      ],
      "metadata": {
        "id": "c56Yng_6dzhj"
      },
      "execution_count": null,
      "outputs": []
    },
    {
      "cell_type": "code",
      "source": [
        "data_2024_eph=data_2024.groupby(['full_name']).agg({'earnings':'sum','onjobduration_min':'sum'}).reset_index()\n",
        "data_2024_eph['EPH']=(data_2024_eph['earnings']*60)/data_2024_eph['onjobduration_min']\n",
        "data_2024_eph.sort_values(by='EPH',ascending=False,inplace=True)\n",
        "data_2024_eph"
      ],
      "metadata": {
        "id": "V3Wo2lT_zrD4"
      },
      "execution_count": null,
      "outputs": []
    },
    {
      "cell_type": "code",
      "source": [
        "data_plot=data_2024.groupby(['full_name','Hour']).agg({'id_x':'count'}).sort_values(by='id_x',ascending=False).reset_index()\n",
        "data_plot=data_plot.pivot(index='full_name',columns='Hour',values='id_x')\n",
        "data_plot.reset_index(inplace=True)\n",
        "data_plot.rename(columns={'full_name':'full_name//Hour'},inplace=True)\n",
        "data_plot.to_csv('driver_hour_ride_dist.csv')\n",
        "data_plot"
      ],
      "metadata": {
        "id": "bSG8YS-dz6mS"
      },
      "execution_count": null,
      "outputs": []
    },
    {
      "cell_type": "code",
      "source": [
        "import plotly.express as px\n",
        "import plotly.graph_objects as go\n",
        "\n",
        "fig = px.bar(data_plot, x=\"full_name//Hour\", y=6)\n",
        "\n",
        "fig.update_layout(\n",
        "    xaxis_title=\"Driver\",\n",
        "    yaxis_title=\"Number of Rides\",\n",
        "    title=\"Number of Rides per Driver at Hour 6\"\n",
        ")\n",
        "\n",
        "# Add a dropdown to filter by hour\n",
        "fig.update_layout(\n",
        "    updatemenus=[\n",
        "        dict(\n",
        "            type=\"dropdown\",\n",
        "            direction=\"down\",\n",
        "            buttons=list([\n",
        "                dict(\n",
        "                    label=str(hour),\n",
        "                    method=\"update\",\n",
        "                    args=[{\"y\": [data_plot[hour]]},\n",
        "                          {\"xaxis\": {\"title\": \"Driver\"},\n",
        "                           \"yaxis\": {\"title\": \"Number of Rides\"},\n",
        "                           \"title\": f\"Number of Rides per Driver at Hour {hour}\"}]\n",
        "                ) for hour in data_plot.columns[1:]\n",
        "            ]),\n",
        "        ),\n",
        "    ]\n",
        ")\n",
        "\n",
        "\n",
        "fig.show()\n"
      ],
      "metadata": {
        "id": "hS-5hqPp1MfJ"
      },
      "execution_count": null,
      "outputs": []
    },
    {
      "cell_type": "code",
      "source": [
        "data.groupby(['full_name']).agg({'id_x':'count'})"
      ],
      "metadata": {
        "id": "-Ptov5Yl3roT"
      },
      "execution_count": null,
      "outputs": []
    },
    {
      "cell_type": "code",
      "source": [
        "import matplotlib.pyplot as plt\n",
        "\n",
        "driver_ride_counts = data.groupby(['full_name']).agg({'id_x':'count'})\n",
        "driver_ride_counts=driver_ride_counts[driver_ride_counts['id_x']>40]\n",
        "driver_ride_counts.sort_values(by='id_x',ascending=False,inplace=True)\n",
        "# Create a bar chart using matplotlib\n",
        "plt.figure(figsize=(20, 6))\n",
        "plt.bar(driver_ride_counts.index, driver_ride_counts['id_x'])\n",
        "plt.xlabel('Driver')\n",
        "plt.ylabel('Number of Rides')\n",
        "plt.title('Number of Rides per Driver')\n",
        "plt.xticks(rotation=90)  # Rotate x-axis labels for readability if needed\n",
        "plt.tight_layout()  # Adjust layout to prevent overlapping labels\n",
        "plt.show()"
      ],
      "metadata": {
        "id": "fCiZ2zKO4l5u"
      },
      "execution_count": null,
      "outputs": []
    },
    {
      "cell_type": "code",
      "source": [
        "data_driver=data[data['full_name']=='Isaac Babalola F Agboola']\n",
        "data_driver=data_driver[data_driver['TimeOfDay']=='Evening']\n",
        "data_plot=data_driver.groupby(['Pick_up_postcode']).agg({'id_x':'count'}).sort_values(by='id_x',ascending=False).reset_index()\n",
        "data_plot=data_plot.head(55)"
      ],
      "metadata": {
        "id": "kZkzvu1j4xQp"
      },
      "execution_count": null,
      "outputs": []
    },
    {
      "cell_type": "code",
      "source": [
        "import matplotlib.pyplot as plt\n",
        "\n",
        "plt.figure(figsize=(15, 6))\n",
        "bars = plt.bar(data_plot['Pick_up_postcode'], data_plot['id_x'])\n",
        "plt.xlabel('Pick_up_postcode')\n",
        "plt.ylabel('Number of Rides')\n",
        "plt.title('Number of Rides per Pick_up_postcode')\n",
        "plt.xticks(rotation=90)\n",
        "\n",
        "for bar in bars:\n",
        "    yval = bar.get_height()\n",
        "    plt.text(bar.get_x() + bar.get_width()/2, yval + 0.5, yval, ha='center', va='bottom')\n",
        "\n",
        "\n",
        "plt.tight_layout()\n",
        "plt.show()"
      ],
      "metadata": {
        "id": "0K0eRAIXkIPL"
      },
      "execution_count": null,
      "outputs": []
    },
    {
      "cell_type": "code",
      "source": [
        "data_driver=data_2024[data_2024['full_name']=='Omar Iqbal']\n",
        "data_driver=data_driver[data_driver['TimeOfDay']=='Morning']\n",
        "data_driver.to_csv('Omar Iqbal_Morning.csv')"
      ],
      "metadata": {
        "id": "KZ5ESivf_EI2"
      },
      "execution_count": null,
      "outputs": []
    },
    {
      "cell_type": "code",
      "source": [
        "data_driver=data_driver[data_driver['Pick_up_postcode']=='W2']\n",
        "data_driver.to_csv('soni_w2.csv',index=False)"
      ],
      "metadata": {
        "id": "Q020ptNb_D_r"
      },
      "execution_count": null,
      "outputs": []
    },
    {
      "cell_type": "code",
      "source": [
        "data_driver=data[data['full_name']=='Isaac Babalola F Agboola']\n",
        "data_driver=data_driver[data_driver['TimeOfDay']=='Evening']\n",
        "data_plot=data_driver.groupby(['Drop_off_postcode']).agg({'id_x':'count'}).sort_values(by='id_x',ascending=False).reset_index()\n",
        "data_plot=data_plot.head(55)"
      ],
      "metadata": {
        "id": "WwZCkDX6kbR7"
      },
      "execution_count": null,
      "outputs": []
    }
  ]
}